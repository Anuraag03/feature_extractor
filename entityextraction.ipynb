{
  "cells": [
    {
      "cell_type": "code",
      "execution_count": null,
      "metadata": {
        "colab": {
          "base_uri": "https://localhost:8080/"
        },
        "id": "Ti60WVB1mTUG",
        "outputId": "495888bf-ace5-45a0-cdbc-6ceabe80e574"
      },
      "outputs": [
        {
          "name": "stdout",
          "output_type": "stream",
          "text": [
            "Extracted Entities: [('North America', 'regions'), ('analytics', 'features'), ('CompetitorX', 'competitors'), ('discount', 'pricing_keywords')]\n"
          ]
        }
      ],
      "source": [
        "import spacy\n",
        "from spacy.matcher import PhraseMatcher\n",
        "from spacy.tokens import Span\n",
        "import json\n",
        "# Load spaCy's pre-trained model\n",
        "nlp = spacy.load(\"en_core_web_sm\")\n",
        "\n",
        "# Domain knowledge base\n",
        "with open(\"domain_knowledge.json\", \"r\") as file:\n",
        "    domain_knowledge = json.load(file)\n",
        "\n",
        "# Create a PhraseMatcher object\n",
        "matcher = PhraseMatcher(nlp.vocab, attr=\"LOWER\")\n",
        "\n",
        "# Add domain knowledge patterns to the matcher\n",
        "for category, keywords in domain_knowledge.items():\n",
        "    patterns = [nlp.make_doc(keyword) for keyword in keywords]\n",
        "    matcher.add(category, patterns)\n",
        "\n",
        "# Function to extract entities using spaCy\n",
        "def extract_entities(text):\n",
        "    doc = nlp(text)\n",
        "    matches = matcher(doc)\n",
        "    entities = []\n",
        "\n",
        "    for match_id, start, end in matches:\n",
        "        span = doc[start:end]\n",
        "        category = nlp.vocab.strings[match_id]\n",
        "        entities.append((span.text, category))\n",
        "\n",
        "    return entities\n",
        "\n",
        "# Example usage\n",
        "text = \"We’re expanding into North America and need a platform with strong analytics. CompetitorX offers a better discount.\"\n",
        "entities = extract_entities(text)\n",
        "print(\"Extracted Entities:\", entities)"
      ]
    }
  ],
  "metadata": {
    "colab": {
      "provenance": []
    },
    "kernelspec": {
      "display_name": "Python 3",
      "name": "python3"
    },
    "language_info": {
      "name": "python"
    }
  },
  "nbformat": 4,
  "nbformat_minor": 0
}
